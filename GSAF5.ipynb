{
  "nbformat": 4,
  "nbformat_minor": 0,
  "metadata": {
    "colab": {
      "provenance": [],
      "collapsed_sections": []
    },
    "kernelspec": {
      "name": "python3",
      "display_name": "Python 3"
    },
    "language_info": {
      "name": "python"
    }
  },
  "cells": [
    {
      "cell_type": "markdown",
      "source": [
        "**Sharks Attacks**\n",
        "\n",
        "data link:\n",
        "\n",
        "https://www.kaggle.com/datasets/thedevastator/shark-attacks-the-risks-of-coastal-water-activit\n",
        "\n"
      ],
      "metadata": {
        "id": "vnCxYiLMiPlv"
      }
    },
    {
      "cell_type": "code",
      "execution_count": 69,
      "metadata": {
        "id": "VvQxKrWvwyRy"
      },
      "outputs": [],
      "source": [
        "from pandas.core.window.online import import_optional_dependency\n",
        "import pandas as pd \n",
        "import numpy as np \n",
        "import matplotlib.pyplot as plt\n",
        "import seaborn as sns\n",
        "from datetime import  date , datetime\n",
        "import statistics as st"
      ]
    },
    {
      "cell_type": "markdown",
      "source": [
        "**Read Data**"
      ],
      "metadata": {
        "id": "Bd3WcC5Kjfp9"
      }
    },
    {
      "cell_type": "code",
      "source": [
        "df = pd.read_csv(\"/content/drive/MyDrive/Colab Notebooks/GSAF5.xls.csv/GSAF5.csv\")\n",
        "df.head()"
      ],
      "metadata": {
        "colab": {
          "base_uri": "https://localhost:8080/",
          "height": 525
        },
        "id": "UwK5SGB26epq",
        "outputId": "bf11a3ea-8420-4c00-8919-85fc6ef2fef4"
      },
      "execution_count": 70,
      "outputs": [
        {
          "output_type": "stream",
          "name": "stderr",
          "text": [
            "/usr/local/lib/python3.7/dist-packages/IPython/core/interactiveshell.py:3326: DtypeWarning: Columns (10,17,18,19,20,21,24) have mixed types.Specify dtype option on import or set low_memory=False.\n",
            "  exec(code_obj, self.user_global_ns, self.user_ns)\n"
          ]
        },
        {
          "output_type": "execute_result",
          "data": {
            "text/plain": [
              "   index   Case Number                  Date    Year        Type      Country  \\\n",
              "0      0    2020.02.05           05-Feb-2020  2020.0  Unprovoked          USA   \n",
              "1      1  2020.01.30.R  Reported 30-Jan-2020  2020.0    Provoked      BAHAMAS   \n",
              "2      2    2020.01.17           17-Jan-2020  2020.0  Unprovoked    AUSTRALIA   \n",
              "3      3    2020.01.16           16-Jan-2020  2020.0  Unprovoked  NEW ZEALAND   \n",
              "4      4    2020.01.13           13-Jan-2020  2020.0  Unprovoked          USA   \n",
              "\n",
              "              Area               Location                  Activity  \\\n",
              "0             Maui                    NaN  Stand-Up Paddle boarding   \n",
              "1           Exumas                    NaN                  Floating   \n",
              "2  New South Wales          Windang Beach                   Surfing   \n",
              "3        Southland            Oreti Beach                   Surfing   \n",
              "4   North Carolina  Rodanthe, Dare County                   Surfing   \n",
              "\n",
              "              Name  ... Unnamed: 246 Unnamed: 247 Unnamed: 248 Unnamed: 249  \\\n",
              "0              NaN  ...          NaN          NaN          NaN          NaN   \n",
              "1  Ana Bruna Avila  ...          NaN          NaN          NaN          NaN   \n",
              "2   Will Schroeter  ...          NaN          NaN          NaN          NaN   \n",
              "3      Jordan King  ...          NaN          NaN          NaN          NaN   \n",
              "4     Samuel Horne  ...          NaN          NaN          NaN          NaN   \n",
              "\n",
              "  Unnamed: 250 Unnamed: 251 Unnamed: 252 Unnamed: 253 Unnamed: 254  \\\n",
              "0          NaN          NaN          NaN          NaN          NaN   \n",
              "1          NaN          NaN          NaN          NaN          NaN   \n",
              "2          NaN          NaN          NaN          NaN          NaN   \n",
              "3          NaN          NaN          NaN          NaN          NaN   \n",
              "4          NaN          NaN          NaN          NaN          NaN   \n",
              "\n",
              "  Unnamed: 255  \n",
              "0          NaN  \n",
              "1          NaN  \n",
              "2          NaN  \n",
              "3          NaN  \n",
              "4          NaN  \n",
              "\n",
              "[5 rows x 257 columns]"
            ],
            "text/html": [
              "\n",
              "  <div id=\"df-a37da2a1-6cbd-429c-8327-19b67d9bc51d\">\n",
              "    <div class=\"colab-df-container\">\n",
              "      <div>\n",
              "<style scoped>\n",
              "    .dataframe tbody tr th:only-of-type {\n",
              "        vertical-align: middle;\n",
              "    }\n",
              "\n",
              "    .dataframe tbody tr th {\n",
              "        vertical-align: top;\n",
              "    }\n",
              "\n",
              "    .dataframe thead th {\n",
              "        text-align: right;\n",
              "    }\n",
              "</style>\n",
              "<table border=\"1\" class=\"dataframe\">\n",
              "  <thead>\n",
              "    <tr style=\"text-align: right;\">\n",
              "      <th></th>\n",
              "      <th>index</th>\n",
              "      <th>Case Number</th>\n",
              "      <th>Date</th>\n",
              "      <th>Year</th>\n",
              "      <th>Type</th>\n",
              "      <th>Country</th>\n",
              "      <th>Area</th>\n",
              "      <th>Location</th>\n",
              "      <th>Activity</th>\n",
              "      <th>Name</th>\n",
              "      <th>...</th>\n",
              "      <th>Unnamed: 246</th>\n",
              "      <th>Unnamed: 247</th>\n",
              "      <th>Unnamed: 248</th>\n",
              "      <th>Unnamed: 249</th>\n",
              "      <th>Unnamed: 250</th>\n",
              "      <th>Unnamed: 251</th>\n",
              "      <th>Unnamed: 252</th>\n",
              "      <th>Unnamed: 253</th>\n",
              "      <th>Unnamed: 254</th>\n",
              "      <th>Unnamed: 255</th>\n",
              "    </tr>\n",
              "  </thead>\n",
              "  <tbody>\n",
              "    <tr>\n",
              "      <th>0</th>\n",
              "      <td>0</td>\n",
              "      <td>2020.02.05</td>\n",
              "      <td>05-Feb-2020</td>\n",
              "      <td>2020.0</td>\n",
              "      <td>Unprovoked</td>\n",
              "      <td>USA</td>\n",
              "      <td>Maui</td>\n",
              "      <td>NaN</td>\n",
              "      <td>Stand-Up Paddle boarding</td>\n",
              "      <td>NaN</td>\n",
              "      <td>...</td>\n",
              "      <td>NaN</td>\n",
              "      <td>NaN</td>\n",
              "      <td>NaN</td>\n",
              "      <td>NaN</td>\n",
              "      <td>NaN</td>\n",
              "      <td>NaN</td>\n",
              "      <td>NaN</td>\n",
              "      <td>NaN</td>\n",
              "      <td>NaN</td>\n",
              "      <td>NaN</td>\n",
              "    </tr>\n",
              "    <tr>\n",
              "      <th>1</th>\n",
              "      <td>1</td>\n",
              "      <td>2020.01.30.R</td>\n",
              "      <td>Reported 30-Jan-2020</td>\n",
              "      <td>2020.0</td>\n",
              "      <td>Provoked</td>\n",
              "      <td>BAHAMAS</td>\n",
              "      <td>Exumas</td>\n",
              "      <td>NaN</td>\n",
              "      <td>Floating</td>\n",
              "      <td>Ana Bruna Avila</td>\n",
              "      <td>...</td>\n",
              "      <td>NaN</td>\n",
              "      <td>NaN</td>\n",
              "      <td>NaN</td>\n",
              "      <td>NaN</td>\n",
              "      <td>NaN</td>\n",
              "      <td>NaN</td>\n",
              "      <td>NaN</td>\n",
              "      <td>NaN</td>\n",
              "      <td>NaN</td>\n",
              "      <td>NaN</td>\n",
              "    </tr>\n",
              "    <tr>\n",
              "      <th>2</th>\n",
              "      <td>2</td>\n",
              "      <td>2020.01.17</td>\n",
              "      <td>17-Jan-2020</td>\n",
              "      <td>2020.0</td>\n",
              "      <td>Unprovoked</td>\n",
              "      <td>AUSTRALIA</td>\n",
              "      <td>New South Wales</td>\n",
              "      <td>Windang Beach</td>\n",
              "      <td>Surfing</td>\n",
              "      <td>Will Schroeter</td>\n",
              "      <td>...</td>\n",
              "      <td>NaN</td>\n",
              "      <td>NaN</td>\n",
              "      <td>NaN</td>\n",
              "      <td>NaN</td>\n",
              "      <td>NaN</td>\n",
              "      <td>NaN</td>\n",
              "      <td>NaN</td>\n",
              "      <td>NaN</td>\n",
              "      <td>NaN</td>\n",
              "      <td>NaN</td>\n",
              "    </tr>\n",
              "    <tr>\n",
              "      <th>3</th>\n",
              "      <td>3</td>\n",
              "      <td>2020.01.16</td>\n",
              "      <td>16-Jan-2020</td>\n",
              "      <td>2020.0</td>\n",
              "      <td>Unprovoked</td>\n",
              "      <td>NEW ZEALAND</td>\n",
              "      <td>Southland</td>\n",
              "      <td>Oreti Beach</td>\n",
              "      <td>Surfing</td>\n",
              "      <td>Jordan King</td>\n",
              "      <td>...</td>\n",
              "      <td>NaN</td>\n",
              "      <td>NaN</td>\n",
              "      <td>NaN</td>\n",
              "      <td>NaN</td>\n",
              "      <td>NaN</td>\n",
              "      <td>NaN</td>\n",
              "      <td>NaN</td>\n",
              "      <td>NaN</td>\n",
              "      <td>NaN</td>\n",
              "      <td>NaN</td>\n",
              "    </tr>\n",
              "    <tr>\n",
              "      <th>4</th>\n",
              "      <td>4</td>\n",
              "      <td>2020.01.13</td>\n",
              "      <td>13-Jan-2020</td>\n",
              "      <td>2020.0</td>\n",
              "      <td>Unprovoked</td>\n",
              "      <td>USA</td>\n",
              "      <td>North Carolina</td>\n",
              "      <td>Rodanthe, Dare County</td>\n",
              "      <td>Surfing</td>\n",
              "      <td>Samuel Horne</td>\n",
              "      <td>...</td>\n",
              "      <td>NaN</td>\n",
              "      <td>NaN</td>\n",
              "      <td>NaN</td>\n",
              "      <td>NaN</td>\n",
              "      <td>NaN</td>\n",
              "      <td>NaN</td>\n",
              "      <td>NaN</td>\n",
              "      <td>NaN</td>\n",
              "      <td>NaN</td>\n",
              "      <td>NaN</td>\n",
              "    </tr>\n",
              "  </tbody>\n",
              "</table>\n",
              "<p>5 rows × 257 columns</p>\n",
              "</div>\n",
              "      <button class=\"colab-df-convert\" onclick=\"convertToInteractive('df-a37da2a1-6cbd-429c-8327-19b67d9bc51d')\"\n",
              "              title=\"Convert this dataframe to an interactive table.\"\n",
              "              style=\"display:none;\">\n",
              "        \n",
              "  <svg xmlns=\"http://www.w3.org/2000/svg\" height=\"24px\"viewBox=\"0 0 24 24\"\n",
              "       width=\"24px\">\n",
              "    <path d=\"M0 0h24v24H0V0z\" fill=\"none\"/>\n",
              "    <path d=\"M18.56 5.44l.94 2.06.94-2.06 2.06-.94-2.06-.94-.94-2.06-.94 2.06-2.06.94zm-11 1L8.5 8.5l.94-2.06 2.06-.94-2.06-.94L8.5 2.5l-.94 2.06-2.06.94zm10 10l.94 2.06.94-2.06 2.06-.94-2.06-.94-.94-2.06-.94 2.06-2.06.94z\"/><path d=\"M17.41 7.96l-1.37-1.37c-.4-.4-.92-.59-1.43-.59-.52 0-1.04.2-1.43.59L10.3 9.45l-7.72 7.72c-.78.78-.78 2.05 0 2.83L4 21.41c.39.39.9.59 1.41.59.51 0 1.02-.2 1.41-.59l7.78-7.78 2.81-2.81c.8-.78.8-2.07 0-2.86zM5.41 20L4 18.59l7.72-7.72 1.47 1.35L5.41 20z\"/>\n",
              "  </svg>\n",
              "      </button>\n",
              "      \n",
              "  <style>\n",
              "    .colab-df-container {\n",
              "      display:flex;\n",
              "      flex-wrap:wrap;\n",
              "      gap: 12px;\n",
              "    }\n",
              "\n",
              "    .colab-df-convert {\n",
              "      background-color: #E8F0FE;\n",
              "      border: none;\n",
              "      border-radius: 50%;\n",
              "      cursor: pointer;\n",
              "      display: none;\n",
              "      fill: #1967D2;\n",
              "      height: 32px;\n",
              "      padding: 0 0 0 0;\n",
              "      width: 32px;\n",
              "    }\n",
              "\n",
              "    .colab-df-convert:hover {\n",
              "      background-color: #E2EBFA;\n",
              "      box-shadow: 0px 1px 2px rgba(60, 64, 67, 0.3), 0px 1px 3px 1px rgba(60, 64, 67, 0.15);\n",
              "      fill: #174EA6;\n",
              "    }\n",
              "\n",
              "    [theme=dark] .colab-df-convert {\n",
              "      background-color: #3B4455;\n",
              "      fill: #D2E3FC;\n",
              "    }\n",
              "\n",
              "    [theme=dark] .colab-df-convert:hover {\n",
              "      background-color: #434B5C;\n",
              "      box-shadow: 0px 1px 3px 1px rgba(0, 0, 0, 0.15);\n",
              "      filter: drop-shadow(0px 1px 2px rgba(0, 0, 0, 0.3));\n",
              "      fill: #FFFFFF;\n",
              "    }\n",
              "  </style>\n",
              "\n",
              "      <script>\n",
              "        const buttonEl =\n",
              "          document.querySelector('#df-a37da2a1-6cbd-429c-8327-19b67d9bc51d button.colab-df-convert');\n",
              "        buttonEl.style.display =\n",
              "          google.colab.kernel.accessAllowed ? 'block' : 'none';\n",
              "\n",
              "        async function convertToInteractive(key) {\n",
              "          const element = document.querySelector('#df-a37da2a1-6cbd-429c-8327-19b67d9bc51d');\n",
              "          const dataTable =\n",
              "            await google.colab.kernel.invokeFunction('convertToInteractive',\n",
              "                                                     [key], {});\n",
              "          if (!dataTable) return;\n",
              "\n",
              "          const docLinkHtml = 'Like what you see? Visit the ' +\n",
              "            '<a target=\"_blank\" href=https://colab.research.google.com/notebooks/data_table.ipynb>data table notebook</a>'\n",
              "            + ' to learn more about interactive tables.';\n",
              "          element.innerHTML = '';\n",
              "          dataTable['output_type'] = 'display_data';\n",
              "          await google.colab.output.renderOutput(dataTable, element);\n",
              "          const docLink = document.createElement('div');\n",
              "          docLink.innerHTML = docLinkHtml;\n",
              "          element.appendChild(docLink);\n",
              "        }\n",
              "      </script>\n",
              "    </div>\n",
              "  </div>\n",
              "  "
            ]
          },
          "metadata": {},
          "execution_count": 70
        }
      ]
    },
    {
      "cell_type": "code",
      "source": [
        "print(df.columns)"
      ],
      "metadata": {
        "colab": {
          "base_uri": "https://localhost:8080/"
        },
        "id": "_l6za6d29xhh",
        "outputId": "d7d5a9fb-0a28-42e7-8a58-d23373150338"
      },
      "execution_count": 71,
      "outputs": [
        {
          "output_type": "stream",
          "name": "stdout",
          "text": [
            "Index(['index', 'Case Number', 'Date', 'Year', 'Type', 'Country', 'Area',\n",
            "       'Location', 'Activity', 'Name',\n",
            "       ...\n",
            "       'Unnamed: 246', 'Unnamed: 247', 'Unnamed: 248', 'Unnamed: 249',\n",
            "       'Unnamed: 250', 'Unnamed: 251', 'Unnamed: 252', 'Unnamed: 253',\n",
            "       'Unnamed: 254', 'Unnamed: 255'],\n",
            "      dtype='object', length=257)\n"
          ]
        }
      ]
    },
    {
      "cell_type": "code",
      "source": [
        "df=df.rename(columns={'Fatal (Y/N)':'Fatal','Species ':'Species'})"
      ],
      "metadata": {
        "id": "bHs0guO4-U62"
      },
      "execution_count": 72,
      "outputs": []
    },
    {
      "cell_type": "code",
      "source": [
        "df = df[['Date','Year','Type','Country','Area','Location','Activity','Name','Age','Injury','Fatal','Time','Species','Investigator or Source','pdf','href formula','Case Number.1','Case Number.2','original order']]\n",
        "\n",
        "df.head()"
      ],
      "metadata": {
        "colab": {
          "base_uri": "https://localhost:8080/",
          "height": 495
        },
        "id": "EH9Qv4K27DBh",
        "outputId": "122883bc-f7a3-411c-d172-2865872f808b"
      },
      "execution_count": 73,
      "outputs": [
        {
          "output_type": "execute_result",
          "data": {
            "text/plain": [
              "                   Date    Year        Type      Country             Area  \\\n",
              "0           05-Feb-2020  2020.0  Unprovoked          USA             Maui   \n",
              "1  Reported 30-Jan-2020  2020.0    Provoked      BAHAMAS           Exumas   \n",
              "2           17-Jan-2020  2020.0  Unprovoked    AUSTRALIA  New South Wales   \n",
              "3           16-Jan-2020  2020.0  Unprovoked  NEW ZEALAND        Southland   \n",
              "4           13-Jan-2020  2020.0  Unprovoked          USA   North Carolina   \n",
              "\n",
              "                Location                  Activity             Name  Age  \\\n",
              "0                    NaN  Stand-Up Paddle boarding              NaN  NaN   \n",
              "1                    NaN                  Floating  Ana Bruna Avila   24   \n",
              "2          Windang Beach                   Surfing   Will Schroeter   59   \n",
              "3            Oreti Beach                   Surfing      Jordan King   13   \n",
              "4  Rodanthe, Dare County                   Surfing     Samuel Horne   26   \n",
              "\n",
              "                                      Injury Fatal   Time  \\\n",
              "0          No injury, but paddleboard bitten     N  09h40   \n",
              "1  PROVOKED INCIDENT Scratches to left wrist     N    NaN   \n",
              "2          Laceration ot left ankle and foot     N  08h00   \n",
              "3                  Minor injury to lower leg     N  20h30   \n",
              "4                        Lacerations to foot     N  14h33   \n",
              "\n",
              "                       Species  \\\n",
              "0                  Tiger shark   \n",
              "1                          NaN   \n",
              "2              \"A small shark\"   \n",
              "3  Broadnose seven gill shark?   \n",
              "4                          NaN   \n",
              "\n",
              "                              Investigator or Source  \\\n",
              "0                    K. McMurray, TrackingSharks.com   \n",
              "1                    K. McMurray, TrackingSharks.com   \n",
              "2  B. Myatt & M. Michaelson, GSAF; K. McMurray, T...   \n",
              "3                    K. McMurray, TrackingSharks.com   \n",
              "4                                  C. Creswell, GSAF   \n",
              "\n",
              "                        pdf  \\\n",
              "0                       NaN   \n",
              "1                       NaN   \n",
              "2  2020.01.17-Schroeter.pdf   \n",
              "3       2020.01.16-King.pdf   \n",
              "4      2020.01.13-Horne.pdf   \n",
              "\n",
              "                                        href formula Case Number.1  \\\n",
              "0                                                NaN           NaN   \n",
              "1                                                NaN           NaN   \n",
              "2  http://sharkattackfile.net/spreadsheets/pdf_di...    2020.01.17   \n",
              "3  http://sharkattackfile.net/spreadsheets/pdf_di...    2020.01.16   \n",
              "4  http://sharkattackfile.net/spreadsheets/pdf_di...    2020.01.13   \n",
              "\n",
              "  Case Number.2  original order  \n",
              "0           NaN             NaN  \n",
              "1           NaN             NaN  \n",
              "2    2020.01.17          6502.0  \n",
              "3    2020.01.16          6501.0  \n",
              "4    2020.01.13          6500.0  "
            ],
            "text/html": [
              "\n",
              "  <div id=\"df-c309da0b-4600-4c3d-a5f5-7af41c99d9e6\">\n",
              "    <div class=\"colab-df-container\">\n",
              "      <div>\n",
              "<style scoped>\n",
              "    .dataframe tbody tr th:only-of-type {\n",
              "        vertical-align: middle;\n",
              "    }\n",
              "\n",
              "    .dataframe tbody tr th {\n",
              "        vertical-align: top;\n",
              "    }\n",
              "\n",
              "    .dataframe thead th {\n",
              "        text-align: right;\n",
              "    }\n",
              "</style>\n",
              "<table border=\"1\" class=\"dataframe\">\n",
              "  <thead>\n",
              "    <tr style=\"text-align: right;\">\n",
              "      <th></th>\n",
              "      <th>Date</th>\n",
              "      <th>Year</th>\n",
              "      <th>Type</th>\n",
              "      <th>Country</th>\n",
              "      <th>Area</th>\n",
              "      <th>Location</th>\n",
              "      <th>Activity</th>\n",
              "      <th>Name</th>\n",
              "      <th>Age</th>\n",
              "      <th>Injury</th>\n",
              "      <th>Fatal</th>\n",
              "      <th>Time</th>\n",
              "      <th>Species</th>\n",
              "      <th>Investigator or Source</th>\n",
              "      <th>pdf</th>\n",
              "      <th>href formula</th>\n",
              "      <th>Case Number.1</th>\n",
              "      <th>Case Number.2</th>\n",
              "      <th>original order</th>\n",
              "    </tr>\n",
              "  </thead>\n",
              "  <tbody>\n",
              "    <tr>\n",
              "      <th>0</th>\n",
              "      <td>05-Feb-2020</td>\n",
              "      <td>2020.0</td>\n",
              "      <td>Unprovoked</td>\n",
              "      <td>USA</td>\n",
              "      <td>Maui</td>\n",
              "      <td>NaN</td>\n",
              "      <td>Stand-Up Paddle boarding</td>\n",
              "      <td>NaN</td>\n",
              "      <td>NaN</td>\n",
              "      <td>No injury, but paddleboard bitten</td>\n",
              "      <td>N</td>\n",
              "      <td>09h40</td>\n",
              "      <td>Tiger shark</td>\n",
              "      <td>K. McMurray, TrackingSharks.com</td>\n",
              "      <td>NaN</td>\n",
              "      <td>NaN</td>\n",
              "      <td>NaN</td>\n",
              "      <td>NaN</td>\n",
              "      <td>NaN</td>\n",
              "    </tr>\n",
              "    <tr>\n",
              "      <th>1</th>\n",
              "      <td>Reported 30-Jan-2020</td>\n",
              "      <td>2020.0</td>\n",
              "      <td>Provoked</td>\n",
              "      <td>BAHAMAS</td>\n",
              "      <td>Exumas</td>\n",
              "      <td>NaN</td>\n",
              "      <td>Floating</td>\n",
              "      <td>Ana Bruna Avila</td>\n",
              "      <td>24</td>\n",
              "      <td>PROVOKED INCIDENT Scratches to left wrist</td>\n",
              "      <td>N</td>\n",
              "      <td>NaN</td>\n",
              "      <td>NaN</td>\n",
              "      <td>K. McMurray, TrackingSharks.com</td>\n",
              "      <td>NaN</td>\n",
              "      <td>NaN</td>\n",
              "      <td>NaN</td>\n",
              "      <td>NaN</td>\n",
              "      <td>NaN</td>\n",
              "    </tr>\n",
              "    <tr>\n",
              "      <th>2</th>\n",
              "      <td>17-Jan-2020</td>\n",
              "      <td>2020.0</td>\n",
              "      <td>Unprovoked</td>\n",
              "      <td>AUSTRALIA</td>\n",
              "      <td>New South Wales</td>\n",
              "      <td>Windang Beach</td>\n",
              "      <td>Surfing</td>\n",
              "      <td>Will Schroeter</td>\n",
              "      <td>59</td>\n",
              "      <td>Laceration ot left ankle and foot</td>\n",
              "      <td>N</td>\n",
              "      <td>08h00</td>\n",
              "      <td>\"A small shark\"</td>\n",
              "      <td>B. Myatt &amp; M. Michaelson, GSAF; K. McMurray, T...</td>\n",
              "      <td>2020.01.17-Schroeter.pdf</td>\n",
              "      <td>http://sharkattackfile.net/spreadsheets/pdf_di...</td>\n",
              "      <td>2020.01.17</td>\n",
              "      <td>2020.01.17</td>\n",
              "      <td>6502.0</td>\n",
              "    </tr>\n",
              "    <tr>\n",
              "      <th>3</th>\n",
              "      <td>16-Jan-2020</td>\n",
              "      <td>2020.0</td>\n",
              "      <td>Unprovoked</td>\n",
              "      <td>NEW ZEALAND</td>\n",
              "      <td>Southland</td>\n",
              "      <td>Oreti Beach</td>\n",
              "      <td>Surfing</td>\n",
              "      <td>Jordan King</td>\n",
              "      <td>13</td>\n",
              "      <td>Minor injury to lower leg</td>\n",
              "      <td>N</td>\n",
              "      <td>20h30</td>\n",
              "      <td>Broadnose seven gill shark?</td>\n",
              "      <td>K. McMurray, TrackingSharks.com</td>\n",
              "      <td>2020.01.16-King.pdf</td>\n",
              "      <td>http://sharkattackfile.net/spreadsheets/pdf_di...</td>\n",
              "      <td>2020.01.16</td>\n",
              "      <td>2020.01.16</td>\n",
              "      <td>6501.0</td>\n",
              "    </tr>\n",
              "    <tr>\n",
              "      <th>4</th>\n",
              "      <td>13-Jan-2020</td>\n",
              "      <td>2020.0</td>\n",
              "      <td>Unprovoked</td>\n",
              "      <td>USA</td>\n",
              "      <td>North Carolina</td>\n",
              "      <td>Rodanthe, Dare County</td>\n",
              "      <td>Surfing</td>\n",
              "      <td>Samuel Horne</td>\n",
              "      <td>26</td>\n",
              "      <td>Lacerations to foot</td>\n",
              "      <td>N</td>\n",
              "      <td>14h33</td>\n",
              "      <td>NaN</td>\n",
              "      <td>C. Creswell, GSAF</td>\n",
              "      <td>2020.01.13-Horne.pdf</td>\n",
              "      <td>http://sharkattackfile.net/spreadsheets/pdf_di...</td>\n",
              "      <td>2020.01.13</td>\n",
              "      <td>2020.01.13</td>\n",
              "      <td>6500.0</td>\n",
              "    </tr>\n",
              "  </tbody>\n",
              "</table>\n",
              "</div>\n",
              "      <button class=\"colab-df-convert\" onclick=\"convertToInteractive('df-c309da0b-4600-4c3d-a5f5-7af41c99d9e6')\"\n",
              "              title=\"Convert this dataframe to an interactive table.\"\n",
              "              style=\"display:none;\">\n",
              "        \n",
              "  <svg xmlns=\"http://www.w3.org/2000/svg\" height=\"24px\"viewBox=\"0 0 24 24\"\n",
              "       width=\"24px\">\n",
              "    <path d=\"M0 0h24v24H0V0z\" fill=\"none\"/>\n",
              "    <path d=\"M18.56 5.44l.94 2.06.94-2.06 2.06-.94-2.06-.94-.94-2.06-.94 2.06-2.06.94zm-11 1L8.5 8.5l.94-2.06 2.06-.94-2.06-.94L8.5 2.5l-.94 2.06-2.06.94zm10 10l.94 2.06.94-2.06 2.06-.94-2.06-.94-.94-2.06-.94 2.06-2.06.94z\"/><path d=\"M17.41 7.96l-1.37-1.37c-.4-.4-.92-.59-1.43-.59-.52 0-1.04.2-1.43.59L10.3 9.45l-7.72 7.72c-.78.78-.78 2.05 0 2.83L4 21.41c.39.39.9.59 1.41.59.51 0 1.02-.2 1.41-.59l7.78-7.78 2.81-2.81c.8-.78.8-2.07 0-2.86zM5.41 20L4 18.59l7.72-7.72 1.47 1.35L5.41 20z\"/>\n",
              "  </svg>\n",
              "      </button>\n",
              "      \n",
              "  <style>\n",
              "    .colab-df-container {\n",
              "      display:flex;\n",
              "      flex-wrap:wrap;\n",
              "      gap: 12px;\n",
              "    }\n",
              "\n",
              "    .colab-df-convert {\n",
              "      background-color: #E8F0FE;\n",
              "      border: none;\n",
              "      border-radius: 50%;\n",
              "      cursor: pointer;\n",
              "      display: none;\n",
              "      fill: #1967D2;\n",
              "      height: 32px;\n",
              "      padding: 0 0 0 0;\n",
              "      width: 32px;\n",
              "    }\n",
              "\n",
              "    .colab-df-convert:hover {\n",
              "      background-color: #E2EBFA;\n",
              "      box-shadow: 0px 1px 2px rgba(60, 64, 67, 0.3), 0px 1px 3px 1px rgba(60, 64, 67, 0.15);\n",
              "      fill: #174EA6;\n",
              "    }\n",
              "\n",
              "    [theme=dark] .colab-df-convert {\n",
              "      background-color: #3B4455;\n",
              "      fill: #D2E3FC;\n",
              "    }\n",
              "\n",
              "    [theme=dark] .colab-df-convert:hover {\n",
              "      background-color: #434B5C;\n",
              "      box-shadow: 0px 1px 3px 1px rgba(0, 0, 0, 0.15);\n",
              "      filter: drop-shadow(0px 1px 2px rgba(0, 0, 0, 0.3));\n",
              "      fill: #FFFFFF;\n",
              "    }\n",
              "  </style>\n",
              "\n",
              "      <script>\n",
              "        const buttonEl =\n",
              "          document.querySelector('#df-c309da0b-4600-4c3d-a5f5-7af41c99d9e6 button.colab-df-convert');\n",
              "        buttonEl.style.display =\n",
              "          google.colab.kernel.accessAllowed ? 'block' : 'none';\n",
              "\n",
              "        async function convertToInteractive(key) {\n",
              "          const element = document.querySelector('#df-c309da0b-4600-4c3d-a5f5-7af41c99d9e6');\n",
              "          const dataTable =\n",
              "            await google.colab.kernel.invokeFunction('convertToInteractive',\n",
              "                                                     [key], {});\n",
              "          if (!dataTable) return;\n",
              "\n",
              "          const docLinkHtml = 'Like what you see? Visit the ' +\n",
              "            '<a target=\"_blank\" href=https://colab.research.google.com/notebooks/data_table.ipynb>data table notebook</a>'\n",
              "            + ' to learn more about interactive tables.';\n",
              "          element.innerHTML = '';\n",
              "          dataTable['output_type'] = 'display_data';\n",
              "          await google.colab.output.renderOutput(dataTable, element);\n",
              "          const docLink = document.createElement('div');\n",
              "          docLink.innerHTML = docLinkHtml;\n",
              "          element.appendChild(docLink);\n",
              "        }\n",
              "      </script>\n",
              "    </div>\n",
              "  </div>\n",
              "  "
            ]
          },
          "metadata": {},
          "execution_count": 73
        }
      ]
    },
    {
      "cell_type": "markdown",
      "source": [
        "**Data Cleaning**"
      ],
      "metadata": {
        "id": "B8SdDoWwjxu4"
      }
    },
    {
      "cell_type": "code",
      "source": [
        "df.isna().sum()"
      ],
      "metadata": {
        "colab": {
          "base_uri": "https://localhost:8080/"
        },
        "id": "NcMjvIT3__At",
        "outputId": "0e41e992-8360-4680-ec08-24b8841010b0"
      },
      "execution_count": 74,
      "outputs": [
        {
          "output_type": "execute_result",
          "data": {
            "text/plain": [
              "Date                         1\n",
              "Year                         3\n",
              "Type                         5\n",
              "Country                     51\n",
              "Area                       463\n",
              "Location                   545\n",
              "Activity                   552\n",
              "Name                       215\n",
              "Age                       2871\n",
              "Injury                      29\n",
              "Fatal                      547\n",
              "Time                      3392\n",
              "Species                   2924\n",
              "Investigator or Source      19\n",
              "pdf                       3396\n",
              "href formula              3400\n",
              "Case Number.1             3400\n",
              "Case Number.2             3400\n",
              "original order            3400\n",
              "dtype: int64"
            ]
          },
          "metadata": {},
          "execution_count": 74
        }
      ]
    },
    {
      "cell_type": "code",
      "source": [
        "columns = df.columns\n",
        "for col in columns:\n",
        "  if (df[col].isna().sum()/df.shape[0]*100>50):\n",
        "    df.drop(col , axis=1,inplace=True)\n"
      ],
      "metadata": {
        "id": "0m7JhPb6AL1Y"
      },
      "execution_count": 75,
      "outputs": []
    },
    {
      "cell_type": "code",
      "source": [
        "df.info()"
      ],
      "metadata": {
        "colab": {
          "base_uri": "https://localhost:8080/"
        },
        "id": "uhvSbQTM9tUG",
        "outputId": "572068b4-2f8f-4e86-b512-a6337fbe0f26"
      },
      "execution_count": 76,
      "outputs": [
        {
          "output_type": "stream",
          "name": "stdout",
          "text": [
            "<class 'pandas.core.frame.DataFrame'>\n",
            "RangeIndex: 6462 entries, 0 to 6461\n",
            "Data columns (total 13 columns):\n",
            " #   Column                  Non-Null Count  Dtype  \n",
            "---  ------                  --------------  -----  \n",
            " 0   Date                    6461 non-null   object \n",
            " 1   Year                    6459 non-null   float64\n",
            " 2   Type                    6457 non-null   object \n",
            " 3   Country                 6411 non-null   object \n",
            " 4   Area                    5999 non-null   object \n",
            " 5   Location                5917 non-null   object \n",
            " 6   Activity                5910 non-null   object \n",
            " 7   Name                    6247 non-null   object \n",
            " 8   Age                     3591 non-null   object \n",
            " 9   Injury                  6433 non-null   object \n",
            " 10  Fatal                   5915 non-null   object \n",
            " 11  Species                 3538 non-null   object \n",
            " 12  Investigator or Source  6443 non-null   object \n",
            "dtypes: float64(1), object(12)\n",
            "memory usage: 656.4+ KB\n"
          ]
        }
      ]
    },
    {
      "cell_type": "code",
      "source": [
        "df['Year'] = df['Year'].fillna(0)\n",
        "df['Year']=df['Year'].astype('int')"
      ],
      "metadata": {
        "id": "1egOzrBwuqPU"
      },
      "execution_count": 77,
      "outputs": []
    },
    {
      "cell_type": "code",
      "source": [
        "df['Year'].plot(kind='box')\n",
        "plt.show()"
      ],
      "metadata": {
        "colab": {
          "base_uri": "https://localhost:8080/",
          "height": 265
        },
        "id": "aKqP3719wdjL",
        "outputId": "18f841ec-4dab-4bb5-8f16-6ce8cb84648b"
      },
      "execution_count": 78,
      "outputs": [
        {
          "output_type": "display_data",
          "data": {
            "text/plain": [
              "<Figure size 432x288 with 1 Axes>"
            ],
            "image/png": "[encoded data removed]"
          },
          "metadata": {
            "needs_background": "light"
          }
        }
      ]
    },
    {
      "cell_type": "code",
      "source": [
        "df['Year'].sort_values().unique()"
      ],
      "metadata": {
        "colab": {
          "base_uri": "https://localhost:8080/"
        },
        "id": "fPwQ1670wdtI",
        "outputId": "63865fa9-eaff-414a-bb4d-5f42be2fd41e"
      },
      "execution_count": 79,
      "outputs": [
        {
          "output_type": "execute_result",
          "data": {
            "text/plain": [
              "array([   0,    5,   77,  500, 1543, 1554, 1555, 1580, 1595, 1617, 1637,\n",
              "       1638, 1642, 1700, 1703, 1721, 1723, 1733, 1738, 1742, 1748, 1749,\n",
              "       1751, 1753, 1755, 1758, 1764, 1767, 1771, 1776, 1779, 1780, 1783,\n",
              "       1784, 1785, 1786, 1787, 1788, 1791, 1792, 1797, 1800, 1801, 1802,\n",
              "       1803, 1804, 1805, 1807, 1808, 1810, 1811, 1812, 1815, 1816, 1817,\n",
              "       1818, 1819, 1822, 1823, 1825, 1826, 1827, 1828, 1829, 1830, 1831,\n",
              "       1832, 1834, 1835, 1836, 1837, 1839, 1840, 1841, 1842, 1844, 1845,\n",
              "       1846, 1847, 1848, 1849, 1850, 1851, 1852, 1853, 1855, 1856, 1857,\n",
              "       1858, 1859, 1860, 1861, 1862, 1863, 1864, 1865, 1866, 1867, 1868,\n",
              "       1869, 1870, 1871, 1872, 1873, 1874, 1875, 1876, 1877, 1878, 1879,\n",
              "       1880, 1881, 1882, 1883, 1884, 1885, 1886, 1887, 1888, 1889, 1890,\n",
              "       1891, 1892, 1893, 1894, 1895, 1896, 1897, 1898, 1899, 1900, 1901,\n",
              "       1902, 1903, 1904, 1905, 1906, 1907, 1908, 1909, 1910, 1911, 1912,\n",
              "       1913, 1914, 1915, 1916, 1917, 1918, 1919, 1920, 1921, 1922, 1923,\n",
              "       1924, 1925, 1926, 1927, 1928, 1929, 1930, 1931, 1932, 1933, 1934,\n",
              "       1935, 1936, 1937, 1938, 1939, 1940, 1941, 1942, 1943, 1944, 1945,\n",
              "       1946, 1947, 1948, 1949, 1950, 1951, 1952, 1953, 1954, 1955, 1956,\n",
              "       1957, 1958, 1959, 1960, 1961, 1962, 1963, 1964, 1965, 1966, 1967,\n",
              "       1968, 1969, 1970, 1971, 1972, 1973, 1974, 1975, 1976, 1977, 1978,\n",
              "       1979, 1980, 1981, 1982, 1983, 1984, 1985, 1986, 1987, 1988, 1989,\n",
              "       1990, 1991, 1992, 1993, 1994, 1995, 1996, 1997, 1998, 1999, 2000,\n",
              "       2001, 2002, 2003, 2004, 2005, 2006, 2007, 2008, 2009, 2010, 2011,\n",
              "       2012, 2013, 2014, 2015, 2016, 2017, 2018, 2019, 2020, 3019])"
            ]
          },
          "metadata": {},
          "execution_count": 79
        }
      ]
    },
    {
      "cell_type": "code",
      "source": [
        "df=df[(df['Year']>=1543) &(df['Year']<3019)]\n"
      ],
      "metadata": {
        "id": "TIjmswss3X75"
      },
      "execution_count": 80,
      "outputs": []
    },
    {
      "cell_type": "code",
      "source": [
        "df['Date']"
      ],
      "metadata": {
        "colab": {
          "base_uri": "https://localhost:8080/"
        },
        "id": "PWS8A7u0NYJC",
        "outputId": "5364a098-41a3-4b3f-b8d0-b926262a0809"
      },
      "execution_count": 81,
      "outputs": [
        {
          "output_type": "execute_result",
          "data": {
            "text/plain": [
              "0                    05-Feb-2020\n",
              "1           Reported 30-Jan-2020\n",
              "2                    17-Jan-2020\n",
              "3                    16-Jan-2020\n",
              "4                    13-Jan-2020\n",
              "                  ...           \n",
              "6329                        1595\n",
              "6330    Letter dated 10-Jan-1580\n",
              "6331                        1555\n",
              "6332                    Ca. 1554\n",
              "6333                    Ca. 1543\n",
              "Name: Date, Length: 6330, dtype: object"
            ]
          },
          "metadata": {},
          "execution_count": 81
        }
      ]
    },
    {
      "cell_type": "code",
      "source": [
        "df['Date'] = df['Date'].str.strip('Reported ')\n",
        "df['Date'] = df['Date'].str.strip('Before ') \n",
        "df['Date'] = df['Date'].str.strip('Letter dated ') \n",
        "df['Date']=pd.to_datetime(df['Date'],errors='coerce',infer_datetime_format=True)\n"
      ],
      "metadata": {
        "colab": {
          "base_uri": "https://localhost:8080/"
        },
        "id": "PAZ26EjQ0d_D",
        "outputId": "344294ff-a8e5-4912-86d1-9595d51665b5"
      },
      "execution_count": 82,
      "outputs": [
        {
          "output_type": "stream",
          "name": "stderr",
          "text": [
            "/usr/local/lib/python3.7/dist-packages/ipykernel_launcher.py:1: SettingWithCopyWarning: \n",
            "A value is trying to be set on a copy of a slice from a DataFrame.\n",
            "Try using .loc[row_indexer,col_indexer] = value instead\n",
            "\n",
            "See the caveats in the documentation: https://pandas.pydata.org/pandas-docs/stable/user_guide/indexing.html#returning-a-view-versus-a-copy\n",
            "  \"\"\"Entry point for launching an IPython kernel.\n",
            "/usr/local/lib/python3.7/dist-packages/ipykernel_launcher.py:2: SettingWithCopyWarning: \n",
            "A value is trying to be set on a copy of a slice from a DataFrame.\n",
            "Try using .loc[row_indexer,col_indexer] = value instead\n",
            "\n",
            "See the caveats in the documentation: https://pandas.pydata.org/pandas-docs/stable/user_guide/indexing.html#returning-a-view-versus-a-copy\n",
            "  \n",
            "/usr/local/lib/python3.7/dist-packages/ipykernel_launcher.py:3: SettingWithCopyWarning: \n",
            "A value is trying to be set on a copy of a slice from a DataFrame.\n",
            "Try using .loc[row_indexer,col_indexer] = value instead\n",
            "\n",
            "See the caveats in the documentation: https://pandas.pydata.org/pandas-docs/stable/user_guide/indexing.html#returning-a-view-versus-a-copy\n",
            "  This is separate from the ipykernel package so we can avoid doing imports until\n",
            "/usr/local/lib/python3.7/dist-packages/ipykernel_launcher.py:4: SettingWithCopyWarning: \n",
            "A value is trying to be set on a copy of a slice from a DataFrame.\n",
            "Try using .loc[row_indexer,col_indexer] = value instead\n",
            "\n",
            "See the caveats in the documentation: https://pandas.pydata.org/pandas-docs/stable/user_guide/indexing.html#returning-a-view-versus-a-copy\n",
            "  after removing the cwd from sys.path.\n"
          ]
        }
      ]
    },
    {
      "cell_type": "code",
      "source": [
        "df['Date'].isna().sum()"
      ],
      "metadata": {
        "colab": {
          "base_uri": "https://localhost:8080/"
        },
        "id": "yVI2bz4T2o85",
        "outputId": "d6a84b82-f0c0-4684-e1d7-58bfe7c39afd"
      },
      "execution_count": 83,
      "outputs": [
        {
          "output_type": "execute_result",
          "data": {
            "text/plain": [
              "827"
            ]
          },
          "metadata": {},
          "execution_count": 83
        }
      ]
    },
    {
      "cell_type": "code",
      "source": [
        "df['Date'].fillna(0,inplace=True)"
      ],
      "metadata": {
        "colab": {
          "base_uri": "https://localhost:8080/"
        },
        "id": "K8EtwSD7wd53",
        "outputId": "6392bcb2-1032-4906-dfdd-bd612e7a0919"
      },
      "execution_count": 84,
      "outputs": [
        {
          "output_type": "stream",
          "name": "stderr",
          "text": [
            "/usr/local/lib/python3.7/dist-packages/pandas/core/generic.py:6392: SettingWithCopyWarning: \n",
            "A value is trying to be set on a copy of a slice from a DataFrame\n",
            "\n",
            "See the caveats in the documentation: https://pandas.pydata.org/pandas-docs/stable/user_guide/indexing.html#returning-a-view-versus-a-copy\n",
            "  return self._update_inplace(result)\n"
          ]
        }
      ]
    },
    {
      "cell_type": "code",
      "source": [
        "for i,x in enumerate(df['Date']) :\n",
        "   if x==0 :\n",
        "      df.loc[i,'Date']  =  datetime(df.loc[i,'Year'],1,1 ,00,00,00 )\n",
        "      \n",
        "df['Date']=pd.to_datetime(df['Date'],errors='coerce',infer_datetime_format=True)"
      ],
      "metadata": {
        "colab": {
          "base_uri": "https://localhost:8080/"
        },
        "id": "fLmIdtB9weFi",
        "outputId": "837dd6b8-8005-4f19-f1a3-e98ec189959b"
      },
      "execution_count": 85,
      "outputs": [
        {
          "output_type": "stream",
          "name": "stderr",
          "text": [
            "/usr/local/lib/python3.7/dist-packages/pandas/core/indexing.py:1817: SettingWithCopyWarning: \n",
            "A value is trying to be set on a copy of a slice from a DataFrame.\n",
            "Try using .loc[row_indexer,col_indexer] = value instead\n",
            "\n",
            "See the caveats in the documentation: https://pandas.pydata.org/pandas-docs/stable/user_guide/indexing.html#returning-a-view-versus-a-copy\n",
            "  self._setitem_single_column(loc, value, pi)\n"
          ]
        }
      ]
    },
    {
      "cell_type": "code",
      "source": [
        "df['Age'].unique()"
      ],
      "metadata": {
        "colab": {
          "base_uri": "https://localhost:8080/"
        },
        "id": "VNOTUKDhTwyI",
        "outputId": "5840aefe-05ad-4b09-8ee5-1b85405cf7e1"
      },
      "execution_count": 86,
      "outputs": [
        {
          "output_type": "execute_result",
          "data": {
            "text/plain": [
              "array([nan, '24', '59', '13', '26', '75', '7', '57', '12', '21', '30s',\n",
              "       '45', '33', '17', '37', '70', '9', '30', '38', '23', '44',\n",
              "       '28 & 22', '32', '35', '20', '29', '22, 57, 31', '22', '60s', '40',\n",
              "       '11', '16', '51', '18', '49', \"20's\", '40s', '8', '64', '19', '43',\n",
              "       '65', '10', '67', '53', '28', '25', '58', '46', '41', '31', '50',\n",
              "       '15', '9 & 60', '48', '36', '42', '55', 'a minor', '14', '6', '62',\n",
              "       '52', '34', '60', '54', '56', '69', '20s', '3', '82', '73', '68',\n",
              "       '39', 'Teen', '47', '61', '66', '72', '27', '71', '63',\n",
              "       '18 months', '50s', 'teen', '77', '74', '28 & 26', '5', '86',\n",
              "       '18 or 20', '12 or 13', '46 & 34', '28, 23 & 30', 'Teens',\n",
              "       '36 & 26', '8 or 10', '84', '30 or 36', '6½', '21 & ?', '33 or 37',\n",
              "       'mid-30s', '23 & 20', '7 & 31', '20?', \"60's\", '32 & 30',\n",
              "       '16 to 18', '87', 'Elderly', 'mid-20s', 'Ca. 33', '21 or 26',\n",
              "       '>50', '18 to 22', 'adult', '9 & 12', '? & 19', '9 months',\n",
              "       '25 to 35', '23 & 26', '1', '(adult)', '33 & 37', '25 or 28',\n",
              "       '37, 67, 35, 27, ? & 27', '21, 34,24 & 35', '30 & 32', '50 & 30',\n",
              "       '17 & 35', 'X', '\"middle-age\"', '13 or 18', '34 & 19', '33 & 26',\n",
              "       '2 to 3 months', '4', 'MAKE LINE GREEN', '81', '\"young\"', '7 or 8',\n",
              "       '78', '17 & 16', 'F', 'Both 11', '9 or 10', 'young', '36 & 23',\n",
              "       'A.M.', '? & 14', '10 or 12', '31 or 33', '2½'], dtype=object)"
            ]
          },
          "metadata": {},
          "execution_count": 86
        }
      ]
    },
    {
      "cell_type": "code",
      "source": [
        "age = []\n",
        "for i in range(1,101):\n",
        "  age.append(str(i))\n",
        "\n",
        "err = set(df['Age']).difference(age) \n",
        "err=df['Age'].isin(err) \n",
        "\n",
        "ages = df.loc[~err,'Age']\n",
        "\n",
        "ages=ages.astype('int')\n",
        "\n",
        "mode = int(st.mode(ages))\n",
        "\n",
        "df.loc[err,'Age'] = mode"
      ],
      "metadata": {
        "id": "MXuVe4kZVB1g"
      },
      "execution_count": 87,
      "outputs": []
    },
    {
      "cell_type": "code",
      "source": [
        "df['Age']=df['Age'].astype('int')\n",
        "df['Fatal']=df['Fatal'].str.replace('N','')\n",
        "\n",
        "df['Fatal']=df['Fatal'].astype('bool')\n",
        "\n",
        "df = df.fillna('unknown')\n",
        "\n",
        "df['Species']=df['Species'].astype('category')\n",
        "df['Type']=df['Type'].astype('category')\n",
        "df['Activity']=df['Activity'].astype('category')\n",
        "\n",
        "df['Date']=pd.to_datetime(df['Date'],errors='coerce',infer_datetime_format=True)"
      ],
      "metadata": {
        "id": "2qrWxBXPM7AR"
      },
      "execution_count": 88,
      "outputs": []
    },
    {
      "cell_type": "code",
      "source": [
        "df.info()"
      ],
      "metadata": {
        "colab": {
          "base_uri": "https://localhost:8080/"
        },
        "id": "M-tyiy8NQeu8",
        "outputId": "c9c35e2b-af51-4638-f60d-c5c24cbe81f1"
      },
      "execution_count": 89,
      "outputs": [
        {
          "output_type": "stream",
          "name": "stdout",
          "text": [
            "<class 'pandas.core.frame.DataFrame'>\n",
            "Int64Index: 6330 entries, 0 to 6333\n",
            "Data columns (total 13 columns):\n",
            " #   Column                  Non-Null Count  Dtype         \n",
            "---  ------                  --------------  -----         \n",
            " 0   Date                    5737 non-null   datetime64[ns]\n",
            " 1   Year                    6330 non-null   int64         \n",
            " 2   Type                    6330 non-null   category      \n",
            " 3   Country                 6330 non-null   object        \n",
            " 4   Area                    6330 non-null   object        \n",
            " 5   Location                6330 non-null   object        \n",
            " 6   Activity                6330 non-null   category      \n",
            " 7   Name                    6330 non-null   object        \n",
            " 8   Age                     6330 non-null   int64         \n",
            " 9   Injury                  6330 non-null   object        \n",
            " 10  Fatal                   6330 non-null   bool          \n",
            " 11  Species                 6330 non-null   category      \n",
            " 12  Investigator or Source  6330 non-null   object        \n",
            "dtypes: bool(1), category(3), datetime64[ns](1), int64(2), object(6)\n",
            "memory usage: 877.8+ KB\n"
          ]
        }
      ]
    },
    {
      "cell_type": "code",
      "source": [
        "df.to_csv(r'/content/drive/MyDrive/Colab Notebooks/GSAF5.xls.csv/new GSAF after creaning.csv')\n",
        "df.head()"
      ],
      "metadata": {
        "colab": {
          "base_uri": "https://localhost:8080/",
          "height": 495
        },
        "id": "0jHoXAbQQy2c",
        "outputId": "e08f502c-dbdd-4aa6-999e-165dd9fdd081"
      },
      "execution_count": 90,
      "outputs": [
        {
          "output_type": "execute_result",
          "data": {
            "text/plain": [
              "        Date  Year        Type      Country             Area  \\\n",
              "0 2020-02-05  2020  Unprovoked          USA             Maui   \n",
              "1 2020-01-30  2020    Provoked      BAHAMAS           Exumas   \n",
              "2 2020-01-17  2020  Unprovoked    AUSTRALIA  New South Wales   \n",
              "3 2020-01-16  2020  Unprovoked  NEW ZEALAND        Southland   \n",
              "4 2020-01-13  2020  Unprovoked          USA   North Carolina   \n",
              "\n",
              "                Location                  Activity             Name  Age  \\\n",
              "0                unknown  Stand-Up Paddle boarding          unknown   17   \n",
              "1                unknown                  Floating  Ana Bruna Avila   24   \n",
              "2          Windang Beach                   Surfing   Will Schroeter   59   \n",
              "3            Oreti Beach                   Surfing      Jordan King   13   \n",
              "4  Rodanthe, Dare County                   Surfing     Samuel Horne   26   \n",
              "\n",
              "                                      Injury  Fatal  \\\n",
              "0          No injury, but paddleboard bitten  False   \n",
              "1  PROVOKED INCIDENT Scratches to left wrist  False   \n",
              "2          Laceration ot left ankle and foot  False   \n",
              "3                  Minor injury to lower leg  False   \n",
              "4                        Lacerations to foot  False   \n",
              "\n",
              "                       Species  \\\n",
              "0                  Tiger shark   \n",
              "1                      unknown   \n",
              "2              \"A small shark\"   \n",
              "3  Broadnose seven gill shark?   \n",
              "4                      unknown   \n",
              "\n",
              "                              Investigator or Source  \n",
              "0                    K. McMurray, TrackingSharks.com  \n",
              "1                    K. McMurray, TrackingSharks.com  \n",
              "2  B. Myatt & M. Michaelson, GSAF; K. McMurray, T...  \n",
              "3                    K. McMurray, TrackingSharks.com  \n",
              "4                                  C. Creswell, GSAF  "
            ],
            "text/html": [
              "\n",
              "  <div id=\"df-893c08c9-b284-48f7-8ec1-de5ad13d15d0\">\n",
              "    <div class=\"colab-df-container\">\n",
              "      <div>\n",
              "<style scoped>\n",
              "    .dataframe tbody tr th:only-of-type {\n",
              "        vertical-align: middle;\n",
              "    }\n",
              "\n",
              "    .dataframe tbody tr th {\n",
              "        vertical-align: top;\n",
              "    }\n",
              "\n",
              "    .dataframe thead th {\n",
              "        text-align: right;\n",
              "    }\n",
              "</style>\n",
              "<table border=\"1\" class=\"dataframe\">\n",
              "  <thead>\n",
              "    <tr style=\"text-align: right;\">\n",
              "      <th></th>\n",
              "      <th>Date</th>\n",
              "      <th>Year</th>\n",
              "      <th>Type</th>\n",
              "      <th>Country</th>\n",
              "      <th>Area</th>\n",
              "      <th>Location</th>\n",
              "      <th>Activity</th>\n",
              "      <th>Name</th>\n",
              "      <th>Age</th>\n",
              "      <th>Injury</th>\n",
              "      <th>Fatal</th>\n",
              "      <th>Species</th>\n",
              "      <th>Investigator or Source</th>\n",
              "    </tr>\n",
              "  </thead>\n",
              "  <tbody>\n",
              "    <tr>\n",
              "      <th>0</th>\n",
              "      <td>2020-02-05</td>\n",
              "      <td>2020</td>\n",
              "      <td>Unprovoked</td>\n",
              "      <td>USA</td>\n",
              "      <td>Maui</td>\n",
              "      <td>unknown</td>\n",
              "      <td>Stand-Up Paddle boarding</td>\n",
              "      <td>unknown</td>\n",
              "      <td>17</td>\n",
              "      <td>No injury, but paddleboard bitten</td>\n",
              "      <td>False</td>\n",
              "      <td>Tiger shark</td>\n",
              "      <td>K. McMurray, TrackingSharks.com</td>\n",
              "    </tr>\n",
              "    <tr>\n",
              "      <th>1</th>\n",
              "      <td>2020-01-30</td>\n",
              "      <td>2020</td>\n",
              "      <td>Provoked</td>\n",
              "      <td>BAHAMAS</td>\n",
              "      <td>Exumas</td>\n",
              "      <td>unknown</td>\n",
              "      <td>Floating</td>\n",
              "      <td>Ana Bruna Avila</td>\n",
              "      <td>24</td>\n",
              "      <td>PROVOKED INCIDENT Scratches to left wrist</td>\n",
              "      <td>False</td>\n",
              "      <td>unknown</td>\n",
              "      <td>K. McMurray, TrackingSharks.com</td>\n",
              "    </tr>\n",
              "    <tr>\n",
              "      <th>2</th>\n",
              "      <td>2020-01-17</td>\n",
              "      <td>2020</td>\n",
              "      <td>Unprovoked</td>\n",
              "      <td>AUSTRALIA</td>\n",
              "      <td>New South Wales</td>\n",
              "      <td>Windang Beach</td>\n",
              "      <td>Surfing</td>\n",
              "      <td>Will Schroeter</td>\n",
              "      <td>59</td>\n",
              "      <td>Laceration ot left ankle and foot</td>\n",
              "      <td>False</td>\n",
              "      <td>\"A small shark\"</td>\n",
              "      <td>B. Myatt &amp; M. Michaelson, GSAF; K. McMurray, T...</td>\n",
              "    </tr>\n",
              "    <tr>\n",
              "      <th>3</th>\n",
              "      <td>2020-01-16</td>\n",
              "      <td>2020</td>\n",
              "      <td>Unprovoked</td>\n",
              "      <td>NEW ZEALAND</td>\n",
              "      <td>Southland</td>\n",
              "      <td>Oreti Beach</td>\n",
              "      <td>Surfing</td>\n",
              "      <td>Jordan King</td>\n",
              "      <td>13</td>\n",
              "      <td>Minor injury to lower leg</td>\n",
              "      <td>False</td>\n",
              "      <td>Broadnose seven gill shark?</td>\n",
              "      <td>K. McMurray, TrackingSharks.com</td>\n",
              "    </tr>\n",
              "    <tr>\n",
              "      <th>4</th>\n",
              "      <td>2020-01-13</td>\n",
              "      <td>2020</td>\n",
              "      <td>Unprovoked</td>\n",
              "      <td>USA</td>\n",
              "      <td>North Carolina</td>\n",
              "      <td>Rodanthe, Dare County</td>\n",
              "      <td>Surfing</td>\n",
              "      <td>Samuel Horne</td>\n",
              "      <td>26</td>\n",
              "      <td>Lacerations to foot</td>\n",
              "      <td>False</td>\n",
              "      <td>unknown</td>\n",
              "      <td>C. Creswell, GSAF</td>\n",
              "    </tr>\n",
              "  </tbody>\n",
              "</table>\n",
              "</div>\n",
              "      <button class=\"colab-df-convert\" onclick=\"convertToInteractive('df-893c08c9-b284-48f7-8ec1-de5ad13d15d0')\"\n",
              "              title=\"Convert this dataframe to an interactive table.\"\n",
              "              style=\"display:none;\">\n",
              "        \n",
              "  <svg xmlns=\"http://www.w3.org/2000/svg\" height=\"24px\"viewBox=\"0 0 24 24\"\n",
              "       width=\"24px\">\n",
              "    <path d=\"M0 0h24v24H0V0z\" fill=\"none\"/>\n",
              "    <path d=\"M18.56 5.44l.94 2.06.94-2.06 2.06-.94-2.06-.94-.94-2.06-.94 2.06-2.06.94zm-11 1L8.5 8.5l.94-2.06 2.06-.94-2.06-.94L8.5 2.5l-.94 2.06-2.06.94zm10 10l.94 2.06.94-2.06 2.06-.94-2.06-.94-.94-2.06-.94 2.06-2.06.94z\"/><path d=\"M17.41 7.96l-1.37-1.37c-.4-.4-.92-.59-1.43-.59-.52 0-1.04.2-1.43.59L10.3 9.45l-7.72 7.72c-.78.78-.78 2.05 0 2.83L4 21.41c.39.39.9.59 1.41.59.51 0 1.02-.2 1.41-.59l7.78-7.78 2.81-2.81c.8-.78.8-2.07 0-2.86zM5.41 20L4 18.59l7.72-7.72 1.47 1.35L5.41 20z\"/>\n",
              "  </svg>\n",
              "      </button>\n",
              "      \n",
              "  <style>\n",
              "    .colab-df-container {\n",
              "      display:flex;\n",
              "      flex-wrap:wrap;\n",
              "      gap: 12px;\n",
              "    }\n",
              "\n",
              "    .colab-df-convert {\n",
              "      background-color: #E8F0FE;\n",
              "      border: none;\n",
              "      border-radius: 50%;\n",
              "      cursor: pointer;\n",
              "      display: none;\n",
              "      fill: #1967D2;\n",
              "      height: 32px;\n",
              "      padding: 0 0 0 0;\n",
              "      width: 32px;\n",
              "    }\n",
              "\n",
              "    .colab-df-convert:hover {\n",
              "      background-color: #E2EBFA;\n",
              "      box-shadow: 0px 1px 2px rgba(60, 64, 67, 0.3), 0px 1px 3px 1px rgba(60, 64, 67, 0.15);\n",
              "      fill: #174EA6;\n",
              "    }\n",
              "\n",
              "    [theme=dark] .colab-df-convert {\n",
              "      background-color: #3B4455;\n",
              "      fill: #D2E3FC;\n",
              "    }\n",
              "\n",
              "    [theme=dark] .colab-df-convert:hover {\n",
              "      background-color: #434B5C;\n",
              "      box-shadow: 0px 1px 3px 1px rgba(0, 0, 0, 0.15);\n",
              "      filter: drop-shadow(0px 1px 2px rgba(0, 0, 0, 0.3));\n",
              "      fill: #FFFFFF;\n",
              "    }\n",
              "  </style>\n",
              "\n",
              "      <script>\n",
              "        const buttonEl =\n",
              "          document.querySelector('#df-893c08c9-b284-48f7-8ec1-de5ad13d15d0 button.colab-df-convert');\n",
              "        buttonEl.style.display =\n",
              "          google.colab.kernel.accessAllowed ? 'block' : 'none';\n",
              "\n",
              "        async function convertToInteractive(key) {\n",
              "          const element = document.querySelector('#df-893c08c9-b284-48f7-8ec1-de5ad13d15d0');\n",
              "          const dataTable =\n",
              "            await google.colab.kernel.invokeFunction('convertToInteractive',\n",
              "                                                     [key], {});\n",
              "          if (!dataTable) return;\n",
              "\n",
              "          const docLinkHtml = 'Like what you see? Visit the ' +\n",
              "            '<a target=\"_blank\" href=https://colab.research.google.com/notebooks/data_table.ipynb>data table notebook</a>'\n",
              "            + ' to learn more about interactive tables.';\n",
              "          element.innerHTML = '';\n",
              "          dataTable['output_type'] = 'display_data';\n",
              "          await google.colab.output.renderOutput(dataTable, element);\n",
              "          const docLink = document.createElement('div');\n",
              "          docLink.innerHTML = docLinkHtml;\n",
              "          element.appendChild(docLink);\n",
              "        }\n",
              "      </script>\n",
              "    </div>\n",
              "  </div>\n",
              "  "
            ]
          },
          "metadata": {},
          "execution_count": 90
        }
      ]
    },
    {
      "cell_type": "markdown",
      "source": [
        "**Exploring and Visualization Data**"
      ],
      "metadata": {
        "id": "Kl6yHItakUVw"
      }
    },
    {
      "cell_type": "markdown",
      "source": [
        "Count of attack in each year"
      ],
      "metadata": {
        "id": "2jlhB7bqlMSP"
      }
    },
    {
      "cell_type": "code",
      "source": [
        "plt.figure(figsize=[15,5])\n",
        "data1 = df['Year'].value_counts().sort_values(ascending=True)\n",
        "data1 = data1.tail(80)\n",
        "sns.lineplot(x=data1.index , y=data1,data =data1)\n",
        "plt.title('Count of attack in each year')\n",
        "plt.xlabel('Year')\n",
        "plt.ylabel('Count of attacks')\n",
        "plt.show()"
      ],
      "metadata": {
        "colab": {
          "base_uri": "https://localhost:8080/",
          "height": 350
        },
        "id": "bJ_oXHh0QzSy",
        "outputId": "1f849545-f5aa-4993-987b-a72ddcf8e0a6"
      },
      "execution_count": 91,
      "outputs": [
        {
          "output_type": "display_data",
          "data": {
            "text/plain": [
              "<Figure size 1080x360 with 1 Axes>"
            ],
            "image/png": "[encoded data removed]"
          },
          "metadata": {
            "needs_background": "light"
          }
        }
      ]
    },
    {
      "cell_type": "markdown",
      "source": [
        "**Count of attack in each month in 2019**"
      ],
      "metadata": {
        "id": "47Mv7723hYIA"
      }
    },
    {
      "cell_type": "code",
      "source": [
        "plt.figure(figsize=[15,5])\n",
        "df2 = df.dropna()\n",
        "df2.set_index(df2['Date']).resample('M')['Year'].value_counts()[-14:-2].plot(kind='bar')\n",
        "plt.title('Count of attack in each month in 2019')\n",
        "plt.xlabel('month')\n",
        "plt.ylabel('Count of attacks')"
      ],
      "metadata": {
        "colab": {
          "base_uri": "https://localhost:8080/",
          "height": 501
        },
        "id": "nVbQaCt9fTK0",
        "outputId": "39fb5c57-6529-4487-eeb7-c7bcda5046e8"
      },
      "execution_count": 92,
      "outputs": [
        {
          "output_type": "execute_result",
          "data": {
            "text/plain": [
              "Text(0, 0.5, 'Count of attacks')"
            ]
          },
          "metadata": {},
          "execution_count": 92
        },
        {
          "output_type": "display_data",
          "data": {
            "text/plain": [
              "<Figure size 1080x360 with 1 Axes>"
            ],
            "image/png": "[encoded data removed]"
          },
          "metadata": {
            "needs_background": "light"
          }
        }
      ]
    },
    {
      "cell_type": "markdown",
      "source": [
        "**The type of shark attack Counts**"
      ],
      "metadata": {
        "id": "YH57chiW-sXC"
      }
    },
    {
      "cell_type": "code",
      "source": [
        "plt.figure(figsize=[15,5])\n",
        "data2 = df['Type'].value_counts().sort_values(ascending=False).plot(kind='bar')\n",
        "\n",
        "plt.title('The type of shark attack Counts')\n",
        "plt.xlabel('The type of shark attack')\n",
        "plt.ylabel('Counts')\n",
        "plt.xticks(rotation = 90)\n",
        "plt.show()"
      ],
      "metadata": {
        "colab": {
          "base_uri": "https://localhost:8080/",
          "height": 438
        },
        "id": "phB5iy2q5Xt9",
        "outputId": "a0970966-8cb7-4e4f-f3db-07a971885b78"
      },
      "execution_count": 93,
      "outputs": [
        {
          "output_type": "display_data",
          "data": {
            "text/plain": [
              "<Figure size 1080x360 with 1 Axes>"
            ],
            "image/png": "[encoded data removed]"
          },
          "metadata": {
            "needs_background": "light"
          }
        }
      ]
    },
    {
      "cell_type": "markdown",
      "source": [
        "**5 High Countries in attack**"
      ],
      "metadata": {
        "id": "zpPJUENlGxiJ"
      }
    },
    {
      "cell_type": "code",
      "source": [
        "plt.figure(figsize=[15,5])\n",
        "data3 = df['Country'].value_counts().sort_values(ascending=False).head(5).plot(kind='bar',color ='green' )\n",
        "\n",
        "plt.title('5 High Countries in attack')\n",
        "plt.xlabel('Countries')\n",
        "plt.ylabel('Count of attacks')\n",
        "plt.xticks(rotation = 90)\n",
        "plt.show()"
      ],
      "metadata": {
        "colab": {
          "base_uri": "https://localhost:8080/",
          "height": 441
        },
        "id": "xU1fdj9v6EYj",
        "outputId": "99b13c8a-c840-4da4-fe5c-996268ff233f"
      },
      "execution_count": 94,
      "outputs": [
        {
          "output_type": "display_data",
          "data": {
            "text/plain": [
              "<Figure size 1080x360 with 1 Axes>"
            ],
            "image/png": "[encoded data removed]"
          },
          "metadata": {
            "needs_background": "light"
          }
        }
      ]
    },
    {
      "cell_type": "markdown",
      "source": [
        "**most 5 Sharks attack**"
      ],
      "metadata": {
        "id": "evkZO6ZzIhqH"
      }
    },
    {
      "cell_type": "code",
      "source": [
        "plt.figure(figsize=[15,5])\n",
        "data4 = df['Species'].value_counts().sort_values(ascending=False)[1:6].plot(kind='bar',color ='red' )\n",
        "\n",
        "plt.title('most 5 Sharks attack')\n",
        "plt.xlabel('Sharks')\n",
        "plt.ylabel('Count of attacks')\n",
        "plt.xticks(rotation = 90)\n",
        "plt.show()"
      ],
      "metadata": {
        "colab": {
          "base_uri": "https://localhost:8080/",
          "height": 601
        },
        "id": "OOp9yclF6bHf",
        "outputId": "3fa2bed8-a6b9-427f-85d7-3ec46860e732"
      },
      "execution_count": 95,
      "outputs": [
        {
          "output_type": "display_data",
          "data": {
            "text/plain": [
              "<Figure size 1080x360 with 1 Axes>"
            ],
            "image/png": "[encoded data removed]"
          },
          "metadata": {
            "needs_background": "light"
          }
        }
      ]
    },
    {
      "cell_type": "markdown",
      "source": [
        "**Fatal**"
      ],
      "metadata": {
        "id": "MvJ2Q4bmh0-A"
      }
    },
    {
      "cell_type": "code",
      "source": [
        "plt.figure(figsize=[15,5])\n",
        "data5 = df['Fatal'].value_counts()\n",
        "plt.pie(data5,labels=['Alive','Dead'])\n",
        "plt.title('Fatal')\n",
        "plt.xticks(rotation = 90)\n",
        "plt.show()"
      ],
      "metadata": {
        "colab": {
          "base_uri": "https://localhost:8080/",
          "height": 319
        },
        "id": "bxuQgY25C4Pi",
        "outputId": "747af9ff-6963-46ed-d19f-df2ffa7fb7ac"
      },
      "execution_count": 96,
      "outputs": [
        {
          "output_type": "display_data",
          "data": {
            "text/plain": [
              "<Figure size 1080x360 with 1 Axes>"
            ],
            "image/png": "[encoded data removed]"
          },
          "metadata": {}
        }
      ]
    },
    {
      "cell_type": "markdown",
      "source": [
        "Most victim Ages died because of sharks attack"
      ],
      "metadata": {
        "id": "nhIiXJuHRI2U"
      }
    },
    {
      "cell_type": "code",
      "source": [
        "plt.figure(figsize=[15,5])\n",
        "data6 = df.loc[df['Fatal']==True ,'Age' ].value_counts()[:10].plot(kind='bar')\n",
        "plt.title('Most victim Ages died because of sharks attack')\n",
        "plt.xlabel('victim Ages')\n",
        "plt.ylabel('Count of victim')\n",
        "\n",
        "plt.show()"
      ],
      "metadata": {
        "colab": {
          "base_uri": "https://localhost:8080/",
          "height": 352
        },
        "id": "9H2_v6UKJwmK",
        "outputId": "3185f15b-4d6b-4dc2-802c-0e4d277ddb8b"
      },
      "execution_count": 97,
      "outputs": [
        {
          "output_type": "display_data",
          "data": {
            "text/plain": [
              "<Figure size 1080x360 with 1 Axes>"
            ],
            "image/png": "[encoded data removed]"
          },
          "metadata": {
            "needs_background": "light"
          }
        }
      ]
    },
    {
      "cell_type": "markdown",
      "source": [
        "**number of died in year**"
      ],
      "metadata": {
        "id": "GyQ_E9A4bGBr"
      }
    },
    {
      "cell_type": "code",
      "source": [
        "plt.figure(figsize=[15,5])\n",
        "data7 = df.loc[df['Fatal']==True ,'Year' ].value_counts()\n",
        "sns.lineplot(x=data1.index , y=data1,data =data1)\n",
        "plt.title('number of died in year')\n",
        "plt.xlabel('Year')\n",
        "plt.ylabel('Count of died')\n",
        "plt.show()"
      ],
      "metadata": {
        "colab": {
          "base_uri": "https://localhost:8080/",
          "height": 350
        },
        "id": "PpDnV7eCKQRt",
        "outputId": "3e2caeb5-56b7-461c-ee80-67c24eacf8e4"
      },
      "execution_count": 98,
      "outputs": [
        {
          "output_type": "display_data",
          "data": {
            "text/plain": [
              "<Figure size 1080x360 with 1 Axes>"
            ],
            "image/png": "[encoded data removed]"
          },
          "metadata": {
            "needs_background": "light"
          }
        }
      ]
    },
    {
      "cell_type": "markdown",
      "source": [
        "**Dangerious kiler Sharks**"
      ],
      "metadata": {
        "id": "1MUD6hkQcDhj"
      }
    },
    {
      "cell_type": "code",
      "source": [
        "plt.figure(figsize=[15,5])\n",
        "data8 = df.loc[df['Fatal']==True ,'Species' ].value_counts()[1:10].plot(kind='bar')\n",
        "plt.title('Dangerious kiler Sharks')\n",
        "plt.xlabel('Sharks')\n",
        "plt.ylabel('Count of attack')\n",
        "\n",
        "plt.show()"
      ],
      "metadata": {
        "colab": {
          "base_uri": "https://localhost:8080/",
          "height": 601
        },
        "id": "lxVvKtLaaNt9",
        "outputId": "f3f68647-c9d0-4ba0-9dcd-2cb2170a78ce"
      },
      "execution_count": 99,
      "outputs": [
        {
          "output_type": "display_data",
          "data": {
            "text/plain": [
              "<Figure size 1080x360 with 1 Axes>"
            ],
            "image/png": "[encoded data removed]"
          },
          "metadata": {
            "needs_background": "light"
          }
        }
      ]
    },
    {
      "cell_type": "markdown",
      "source": [
        "**Activity while attack**"
      ],
      "metadata": {
        "id": "LE85pabTds6V"
      }
    },
    {
      "cell_type": "code",
      "source": [
        "plt.figure(figsize=[15,5])\n",
        "data9 = df['Activity' ].value_counts()[:10].plot(kind='bar')\n",
        "plt.title('Activity while attack')\n",
        "plt.xlabel('Activity')\n",
        "plt.ylabel('Count of Activity')\n",
        "\n",
        "plt.show()"
      ],
      "metadata": {
        "colab": {
          "base_uri": "https://localhost:8080/",
          "height": 402
        },
        "id": "-lyxbCbtbpY2",
        "outputId": "92660dc4-46c7-47fe-afea-65f9051267d2"
      },
      "execution_count": 100,
      "outputs": [
        {
          "output_type": "display_data",
          "data": {
            "text/plain": [
              "<Figure size 1080x360 with 1 Axes>"
            ],
            "image/png": "[encoded data removed]"
          },
          "metadata": {
            "needs_background": "light"
          }
        }
      ]
    },
    {
      "cell_type": "markdown",
      "source": [
        "**Activity while attack lead to died**"
      ],
      "metadata": {
        "id": "Piwk0bkWeD23"
      }
    },
    {
      "cell_type": "code",
      "source": [
        "plt.figure(figsize=[15,5])\n",
        "data10 = df.loc[df['Fatal']==True ,'Activity' ].value_counts()[:10].plot(kind='bar')\n",
        "plt.title('Activity while attack lead to died')\n",
        "plt.xlabel('Activity')\n",
        "plt.ylabel('Count of Activity')\n",
        "\n",
        "plt.show()"
      ],
      "metadata": {
        "colab": {
          "base_uri": "https://localhost:8080/",
          "height": 411
        },
        "id": "l86q9S9fdJQ_",
        "outputId": "3f408637-782c-4b5d-c742-86b37e249f77"
      },
      "execution_count": 101,
      "outputs": [
        {
          "output_type": "display_data",
          "data": {
            "text/plain": [
              "<Figure size 1080x360 with 1 Axes>"
            ],
            "image/png": "[encoded data removed]"
          },
          "metadata": {
            "needs_background": "light"
          }
        }
      ]
    },
    {
      "cell_type": "markdown",
      "source": [
        "**Z-Score Proportion** \n",
        "\n",
        "**A person who is attacked by a shark dies**\n",
        "\n",
        "**H0:Plive - Pdie <= 0**\n",
        "\n",
        "**H1:Plive - Pdie > 0 ***"
      ],
      "metadata": {
        "id": "VLtIbRj5dgad"
      }
    },
    {
      "cell_type": "code",
      "source": [
        "p_hats = df['Fatal'].value_counts(normalize=True)\n",
        "p1=p_hats[0]\n",
        "p2=p_hats[1]\n",
        "\n",
        "p_hats"
      ],
      "metadata": {
        "colab": {
          "base_uri": "https://localhost:8080/"
        },
        "id": "dd1lrBjmlNWc",
        "outputId": "9df25997-928a-4084-d213-3915a542255e"
      },
      "execution_count": 102,
      "outputs": [
        {
          "output_type": "execute_result",
          "data": {
            "text/plain": [
              "False    0.690679\n",
              "True     0.309321\n",
              "Name: Fatal, dtype: float64"
            ]
          },
          "metadata": {},
          "execution_count": 102
        }
      ]
    },
    {
      "cell_type": "code",
      "source": [
        "n = df['Fatal'].value_counts()\n",
        "n1=n[0]\n",
        "n2=n[1]\n",
        "\n",
        "n"
      ],
      "metadata": {
        "colab": {
          "base_uri": "https://localhost:8080/"
        },
        "id": "Hc78H42gkJ8w",
        "outputId": "6509b44d-a35c-48ad-de99-15fb93ba360c"
      },
      "execution_count": 103,
      "outputs": [
        {
          "output_type": "execute_result",
          "data": {
            "text/plain": [
              "False    4372\n",
              "True     1958\n",
              "Name: Fatal, dtype: int64"
            ]
          },
          "metadata": {},
          "execution_count": 103
        }
      ]
    },
    {
      "cell_type": "code",
      "source": [
        "p=(p1*n1+p2*n2) /(n1+n2)"
      ],
      "metadata": {
        "id": "ex0Q0Gu8ly0m"
      },
      "execution_count": 104,
      "outputs": []
    },
    {
      "cell_type": "code",
      "source": [
        "st=np.sqrt(p * (1-p) / n1 + p * (1-p) / n2)\n"
      ],
      "metadata": {
        "id": "zJdHNmLrmLou"
      },
      "execution_count": 105,
      "outputs": []
    },
    {
      "cell_type": "code",
      "source": [
        "z_score = (p1 - p2) / st\n",
        "\n",
        "print(z_score)"
      ],
      "metadata": {
        "colab": {
          "base_uri": "https://localhost:8080/"
        },
        "id": "nNHMrpKkm2UZ",
        "outputId": "6f785cca-1110-46c7-a041-9f77cb932a0e"
      },
      "execution_count": 106,
      "outputs": [
        {
          "output_type": "stream",
          "name": "stdout",
          "text": [
            "28.34981974416893\n"
          ]
        }
      ]
    },
    {
      "cell_type": "code",
      "source": [
        "from scipy.stats import norm\n",
        "p_value = 1-(norm.cdf(z_score))"
      ],
      "metadata": {
        "id": "8pKEiHUVnIBb"
      },
      "execution_count": 107,
      "outputs": []
    },
    {
      "cell_type": "code",
      "source": [
        "alpha=0.05\n",
        "p_value <= alpha"
      ],
      "metadata": {
        "colab": {
          "base_uri": "https://localhost:8080/"
        },
        "id": "gat2RR1PnrIH",
        "outputId": "fd9a9ec3-f487-4cb0-9091-ae97fe81064e"
      },
      "execution_count": 108,
      "outputs": [
        {
          "output_type": "execute_result",
          "data": {
            "text/plain": [
              "True"
            ]
          },
          "metadata": {},
          "execution_count": 108
        }
      ]
    },
    {
      "cell_type": "markdown",
      "source": [
        "**So   p_value <= alpha ***\n",
        "\n",
        "**We Reject H0 ***\n",
        "\n",
        "**this mean A person who is attacked by a shark may  be  still alive**"
      ],
      "metadata": {
        "id": "x9oO2TGNfBtK"
      }
    },
    {
      "cell_type": "code",
      "source": [
        "df.corr()"
      ],
      "metadata": {
        "colab": {
          "base_uri": "https://localhost:8080/",
          "height": 143
        },
        "id": "RFZrPWQ1b-F1",
        "outputId": "9088ab06-a146-445f-a427-0319e83015e7"
      },
      "execution_count": 109,
      "outputs": [
        {
          "output_type": "execute_result",
          "data": {
            "text/plain": [
              "           Year       Age     Fatal\n",
              "Year   1.000000  0.257676 -0.337292\n",
              "Age    0.257676  1.000000 -0.062393\n",
              "Fatal -0.337292 -0.062393  1.000000"
            ],
            "text/html": [
              "\n",
              "  <div id=\"df-1d159b8f-3088-48ef-b061-42d3d074df82\">\n",
              "    <div class=\"colab-df-container\">\n",
              "      <div>\n",
              "<style scoped>\n",
              "    .dataframe tbody tr th:only-of-type {\n",
              "        vertical-align: middle;\n",
              "    }\n",
              "\n",
              "    .dataframe tbody tr th {\n",
              "        vertical-align: top;\n",
              "    }\n",
              "\n",
              "    .dataframe thead th {\n",
              "        text-align: right;\n",
              "    }\n",
              "</style>\n",
              "<table border=\"1\" class=\"dataframe\">\n",
              "  <thead>\n",
              "    <tr style=\"text-align: right;\">\n",
              "      <th></th>\n",
              "      <th>Year</th>\n",
              "      <th>Age</th>\n",
              "      <th>Fatal</th>\n",
              "    </tr>\n",
              "  </thead>\n",
              "  <tbody>\n",
              "    <tr>\n",
              "      <th>Year</th>\n",
              "      <td>1.000000</td>\n",
              "      <td>0.257676</td>\n",
              "      <td>-0.337292</td>\n",
              "    </tr>\n",
              "    <tr>\n",
              "      <th>Age</th>\n",
              "      <td>0.257676</td>\n",
              "      <td>1.000000</td>\n",
              "      <td>-0.062393</td>\n",
              "    </tr>\n",
              "    <tr>\n",
              "      <th>Fatal</th>\n",
              "      <td>-0.337292</td>\n",
              "      <td>-0.062393</td>\n",
              "      <td>1.000000</td>\n",
              "    </tr>\n",
              "  </tbody>\n",
              "</table>\n",
              "</div>\n",
              "      <button class=\"colab-df-convert\" onclick=\"convertToInteractive('df-1d159b8f-3088-48ef-b061-42d3d074df82')\"\n",
              "              title=\"Convert this dataframe to an interactive table.\"\n",
              "              style=\"display:none;\">\n",
              "        \n",
              "  <svg xmlns=\"http://www.w3.org/2000/svg\" height=\"24px\"viewBox=\"0 0 24 24\"\n",
              "       width=\"24px\">\n",
              "    <path d=\"M0 0h24v24H0V0z\" fill=\"none\"/>\n",
              "    <path d=\"M18.56 5.44l.94 2.06.94-2.06 2.06-.94-2.06-.94-.94-2.06-.94 2.06-2.06.94zm-11 1L8.5 8.5l.94-2.06 2.06-.94-2.06-.94L8.5 2.5l-.94 2.06-2.06.94zm10 10l.94 2.06.94-2.06 2.06-.94-2.06-.94-.94-2.06-.94 2.06-2.06.94z\"/><path d=\"M17.41 7.96l-1.37-1.37c-.4-.4-.92-.59-1.43-.59-.52 0-1.04.2-1.43.59L10.3 9.45l-7.72 7.72c-.78.78-.78 2.05 0 2.83L4 21.41c.39.39.9.59 1.41.59.51 0 1.02-.2 1.41-.59l7.78-7.78 2.81-2.81c.8-.78.8-2.07 0-2.86zM5.41 20L4 18.59l7.72-7.72 1.47 1.35L5.41 20z\"/>\n",
              "  </svg>\n",
              "      </button>\n",
              "      \n",
              "  <style>\n",
              "    .colab-df-container {\n",
              "      display:flex;\n",
              "      flex-wrap:wrap;\n",
              "      gap: 12px;\n",
              "    }\n",
              "\n",
              "    .colab-df-convert {\n",
              "      background-color: #E8F0FE;\n",
              "      border: none;\n",
              "      border-radius: 50%;\n",
              "      cursor: pointer;\n",
              "      display: none;\n",
              "      fill: #1967D2;\n",
              "      height: 32px;\n",
              "      padding: 0 0 0 0;\n",
              "      width: 32px;\n",
              "    }\n",
              "\n",
              "    .colab-df-convert:hover {\n",
              "      background-color: #E2EBFA;\n",
              "      box-shadow: 0px 1px 2px rgba(60, 64, 67, 0.3), 0px 1px 3px 1px rgba(60, 64, 67, 0.15);\n",
              "      fill: #174EA6;\n",
              "    }\n",
              "\n",
              "    [theme=dark] .colab-df-convert {\n",
              "      background-color: #3B4455;\n",
              "      fill: #D2E3FC;\n",
              "    }\n",
              "\n",
              "    [theme=dark] .colab-df-convert:hover {\n",
              "      background-color: #434B5C;\n",
              "      box-shadow: 0px 1px 3px 1px rgba(0, 0, 0, 0.15);\n",
              "      filter: drop-shadow(0px 1px 2px rgba(0, 0, 0, 0.3));\n",
              "      fill: #FFFFFF;\n",
              "    }\n",
              "  </style>\n",
              "\n",
              "      <script>\n",
              "        const buttonEl =\n",
              "          document.querySelector('#df-1d159b8f-3088-48ef-b061-42d3d074df82 button.colab-df-convert');\n",
              "        buttonEl.style.display =\n",
              "          google.colab.kernel.accessAllowed ? 'block' : 'none';\n",
              "\n",
              "        async function convertToInteractive(key) {\n",
              "          const element = document.querySelector('#df-1d159b8f-3088-48ef-b061-42d3d074df82');\n",
              "          const dataTable =\n",
              "            await google.colab.kernel.invokeFunction('convertToInteractive',\n",
              "                                                     [key], {});\n",
              "          if (!dataTable) return;\n",
              "\n",
              "          const docLinkHtml = 'Like what you see? Visit the ' +\n",
              "            '<a target=\"_blank\" href=https://colab.research.google.com/notebooks/data_table.ipynb>data table notebook</a>'\n",
              "            + ' to learn more about interactive tables.';\n",
              "          element.innerHTML = '';\n",
              "          dataTable['output_type'] = 'display_data';\n",
              "          await google.colab.output.renderOutput(dataTable, element);\n",
              "          const docLink = document.createElement('div');\n",
              "          docLink.innerHTML = docLinkHtml;\n",
              "          element.appendChild(docLink);\n",
              "        }\n",
              "      </script>\n",
              "    </div>\n",
              "  </div>\n",
              "  "
            ]
          },
          "metadata": {},
          "execution_count": 109
        }
      ]
    },
    {
      "cell_type": "code",
      "source": [],
      "metadata": {
        "id": "8cYkOPougWmJ"
      },
      "execution_count": 109,
      "outputs": []
    }
  ]
}